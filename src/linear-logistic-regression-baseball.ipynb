{
 "cells": [
  {
   "cell_type": "markdown",
   "metadata": {},
   "source": [
    "# Analyzing Baseball Stats\n",
    "\n",
    "---\n",
    "\n",
    "## Making Predictions Using Linear and Logistic Regression\n",
    "\n",
    "Use the machine learning techniques of linear regression and logistic regression to build predictive models using game-level data from baseball.\n",
    "\n",
    "First, we will focus on the widely used machine learning techniques of linear regression and logistic regression to build predictive models using game-level data. In Part 2, we will focus on the optimization technique of dynamic programming and apply it to in-game decision making. We will also explore another important aspect of data analysis—namely statistical hypothesis testing.\n",
    "\n",
    "### Part 1 is organized into two sections:\n",
    "\n",
    "* **Linear regression:** This is about one of the most well-known supervised machine learning algorithms (linear regression) and use it to construct a model for predicting win probabilities from run differentials using scikit-learn. We will also learn how to parse game logs available in the public domain from Retrosheet\n",
    "* **Logistic regression:** In this section, we will learn about another well-known supervised machine learning algorithm used for categorical data (logistic regression) and use it to construct a model for predicting the outcome of a game from the number of hits using scikit-learn."
   ]
  },
  {
   "cell_type": "code",
   "execution_count": 52,
   "metadata": {
    "collapsed": true
   },
   "outputs": [],
   "source": [
    "import pandas as pd\n",
    "import numpy as np\n",
    "from sklearn import linear_model\n",
    "from scipy import stats\n",
    "import matplotlib.pyplot as plt\n",
    "%matplotlib inline"
   ]
  },
  {
   "cell_type": "markdown",
   "metadata": {},
   "source": [
    "## Linear regression\n",
    "\n",
    "#### INTRODUCTION\n",
    "Linear regression is simple, powerful, and probably the most widely used supervised machine learning algorithm. There is a good chance that you will find an application of linear regression in whatever domain you work in—business analytics, sports, healthcare, communications, and sensor data processing, to name a few. In its simplest form, the algorithm determines the parameters of an assumed linear relationship between the response variable Y and the explanatory variable (also called feature or regressor) X of the form Y = aX + b, where a and b are scalars. In the most general case, both Y and X are multidimensional, a is a matrix, and b is a vector. The goal of the learning algorithm is to determine optimal values for the model parameters a and b (optimal in the sense of minimizing the mean squared error between the model estimates and data on the training set). The model can then be used to predict values of Y based on future values of X.\n",
    "\n",
    "In this section, we will build a simple linear regression model to relate the win percentage of a baseball team to its run differential (i.e., the difference between runs scored and runs allowed). We will use data from five MLB seasons (2011-2015) to train the model and then evaluate the performance of the model on test data from 2016. The game logs used in this segment are sourced from [Retrosheet](http://www.retrosheet.org/). In the process of building the model, we will also learn how to manipulate these game logs in Python using the pandas library. The game logs from Retrosheet are a treasure trove of information and perhaps the most widely used public domain source of data by baseball enthusiasts. Hopefully the illustrative examples presented here will encourage you to construct your own custom analyses and data models using these game logs.\n",
    "\n",
    "#### DATA PREPROCESSING\n",
    "The first step in any machine learning endeavor is to process the raw input data to extract relevant \"features\" and to shape the data into the desired format (known as preprocessing). We will use game logs from the 2018 MLB season as sample input to build up a sequence of methods, which we will later leverage to process game logs from multiple seasons to construct our training and test sets.\n",
    "\n",
    "The gamelogs from Retrosheet are available as comma-separated text files, with a unique file for each MLB season."
   ]
  },
  {
   "cell_type": "code",
   "execution_count": 53,
   "metadata": {
    "collapsed": true
   },
   "outputs": [],
   "source": [
    "#import zipfile\n",
    "\n",
    "#input_zip=zipfile.ZipFile(\"data/GL2018.TXT.zip\")\n",
    "#po=input_zip.read('GL2018.TXT')\n",
    "#text = po.decode('utf-8')\n",
    "#input_df = pd.read_csv(text, sep=\",\", header=None)"
   ]
  },
  {
   "cell_type": "code",
   "execution_count": 54,
   "metadata": {},
   "outputs": [
    {
     "name": "stdout",
     "output_type": "stream",
     "text": [
      "File GL2010.TXT done...\n",
      "File GL2011.TXT done...\n",
      "File GL2012.TXT done...\n",
      "File GL2013.TXT done...\n",
      "File GL2014.TXT done...\n",
      "File GL2015.TXT done...\n",
      "File GL2016.TXT done...\n",
      "File GL2017.TXT done...\n",
      "File GL2018.TXT done...\n"
     ]
    }
   ],
   "source": [
    "import urllib\n",
    "\n",
    "for year in range(2010, 2019):\n",
    "    log_file = \"GL\" + str(year) + \".TXT\"\n",
    "    urllib.request.urlretrieve(\"https://meriatbackup.blob.core.windows.net/public/retrosheet/\"+log_file, \"data/\"+log_file)\n",
    "    print(f'File {log_file} done...')"
   ]
  },
  {
   "cell_type": "code",
   "execution_count": 55,
   "metadata": {
    "collapsed": true
   },
   "outputs": [],
   "source": [
    "# Read games logs from the 2018 season into a dataframe\n",
    "input_df = pd.read_csv(\"data/GL2018.TXT\", sep=\",\", header=None)"
   ]
  },
  {
   "cell_type": "code",
   "execution_count": 56,
   "metadata": {},
   "outputs": [
    {
     "data": {
      "text/html": [
       "<div>\n",
       "<style scoped>\n",
       "    .dataframe tbody tr th:only-of-type {\n",
       "        vertical-align: middle;\n",
       "    }\n",
       "\n",
       "    .dataframe tbody tr th {\n",
       "        vertical-align: top;\n",
       "    }\n",
       "\n",
       "    .dataframe thead th {\n",
       "        text-align: right;\n",
       "    }\n",
       "</style>\n",
       "<table border=\"1\" class=\"dataframe\">\n",
       "  <thead>\n",
       "    <tr style=\"text-align: right;\">\n",
       "      <th></th>\n",
       "      <th>0</th>\n",
       "      <th>1</th>\n",
       "      <th>2</th>\n",
       "      <th>3</th>\n",
       "      <th>4</th>\n",
       "      <th>5</th>\n",
       "      <th>6</th>\n",
       "      <th>7</th>\n",
       "      <th>8</th>\n",
       "      <th>9</th>\n",
       "      <th>...</th>\n",
       "      <th>151</th>\n",
       "      <th>152</th>\n",
       "      <th>153</th>\n",
       "      <th>154</th>\n",
       "      <th>155</th>\n",
       "      <th>156</th>\n",
       "      <th>157</th>\n",
       "      <th>158</th>\n",
       "      <th>159</th>\n",
       "      <th>160</th>\n",
       "    </tr>\n",
       "  </thead>\n",
       "  <tbody>\n",
       "    <tr>\n",
       "      <th>0</th>\n",
       "      <td>20180329</td>\n",
       "      <td>0</td>\n",
       "      <td>Thu</td>\n",
       "      <td>COL</td>\n",
       "      <td>NL</td>\n",
       "      <td>1</td>\n",
       "      <td>ARI</td>\n",
       "      <td>NL</td>\n",
       "      <td>1</td>\n",
       "      <td>2</td>\n",
       "      <td>...</td>\n",
       "      <td>Nick Ahmed</td>\n",
       "      <td>6</td>\n",
       "      <td>dysoj001</td>\n",
       "      <td>Jarrod Dyson</td>\n",
       "      <td>9</td>\n",
       "      <td>corbp001</td>\n",
       "      <td>Patrick Corbin</td>\n",
       "      <td>1</td>\n",
       "      <td>NaN</td>\n",
       "      <td>Y</td>\n",
       "    </tr>\n",
       "    <tr>\n",
       "      <th>1</th>\n",
       "      <td>20180329</td>\n",
       "      <td>0</td>\n",
       "      <td>Thu</td>\n",
       "      <td>PHI</td>\n",
       "      <td>NL</td>\n",
       "      <td>1</td>\n",
       "      <td>ATL</td>\n",
       "      <td>NL</td>\n",
       "      <td>1</td>\n",
       "      <td>5</td>\n",
       "      <td>...</td>\n",
       "      <td>Dansby Swanson</td>\n",
       "      <td>6</td>\n",
       "      <td>flahr001</td>\n",
       "      <td>Ryan Flaherty</td>\n",
       "      <td>5</td>\n",
       "      <td>tehej001</td>\n",
       "      <td>Julio Teheran</td>\n",
       "      <td>1</td>\n",
       "      <td>NaN</td>\n",
       "      <td>Y</td>\n",
       "    </tr>\n",
       "    <tr>\n",
       "      <th>2</th>\n",
       "      <td>20180329</td>\n",
       "      <td>0</td>\n",
       "      <td>Thu</td>\n",
       "      <td>SFN</td>\n",
       "      <td>NL</td>\n",
       "      <td>1</td>\n",
       "      <td>LAN</td>\n",
       "      <td>NL</td>\n",
       "      <td>1</td>\n",
       "      <td>1</td>\n",
       "      <td>...</td>\n",
       "      <td>Yasmani Grandal</td>\n",
       "      <td>2</td>\n",
       "      <td>forsl001</td>\n",
       "      <td>Logan Forsythe</td>\n",
       "      <td>5</td>\n",
       "      <td>kersc001</td>\n",
       "      <td>Clayton Kershaw</td>\n",
       "      <td>1</td>\n",
       "      <td>NaN</td>\n",
       "      <td>Y</td>\n",
       "    </tr>\n",
       "    <tr>\n",
       "      <th>3</th>\n",
       "      <td>20180329</td>\n",
       "      <td>0</td>\n",
       "      <td>Thu</td>\n",
       "      <td>CHN</td>\n",
       "      <td>NL</td>\n",
       "      <td>1</td>\n",
       "      <td>MIA</td>\n",
       "      <td>NL</td>\n",
       "      <td>1</td>\n",
       "      <td>8</td>\n",
       "      <td>...</td>\n",
       "      <td>Miguel Rojas</td>\n",
       "      <td>6</td>\n",
       "      <td>wallc001</td>\n",
       "      <td>Chad Wallach</td>\n",
       "      <td>2</td>\n",
       "      <td>urenj001</td>\n",
       "      <td>Jose Urena</td>\n",
       "      <td>1</td>\n",
       "      <td>NaN</td>\n",
       "      <td>Y</td>\n",
       "    </tr>\n",
       "    <tr>\n",
       "      <th>4</th>\n",
       "      <td>20180329</td>\n",
       "      <td>0</td>\n",
       "      <td>Thu</td>\n",
       "      <td>SLN</td>\n",
       "      <td>NL</td>\n",
       "      <td>1</td>\n",
       "      <td>NYN</td>\n",
       "      <td>NL</td>\n",
       "      <td>1</td>\n",
       "      <td>4</td>\n",
       "      <td>...</td>\n",
       "      <td>Kevin Plawecki</td>\n",
       "      <td>2</td>\n",
       "      <td>syndn001</td>\n",
       "      <td>Noah Syndergaard</td>\n",
       "      <td>1</td>\n",
       "      <td>rosaa003</td>\n",
       "      <td>Amed Rosario</td>\n",
       "      <td>6</td>\n",
       "      <td>NaN</td>\n",
       "      <td>Y</td>\n",
       "    </tr>\n",
       "  </tbody>\n",
       "</table>\n",
       "<p>5 rows × 161 columns</p>\n",
       "</div>"
      ],
      "text/plain": [
       "        0    1    2    3   4    5    6   7    8    9    ...              151  \\\n",
       "0  20180329    0  Thu  COL  NL    1  ARI  NL    1    2  ...       Nick Ahmed   \n",
       "1  20180329    0  Thu  PHI  NL    1  ATL  NL    1    5  ...   Dansby Swanson   \n",
       "2  20180329    0  Thu  SFN  NL    1  LAN  NL    1    1  ...  Yasmani Grandal   \n",
       "3  20180329    0  Thu  CHN  NL    1  MIA  NL    1    8  ...     Miguel Rojas   \n",
       "4  20180329    0  Thu  SLN  NL    1  NYN  NL    1    4  ...   Kevin Plawecki   \n",
       "\n",
       "   152       153               154  155       156              157  158  159  \\\n",
       "0    6  dysoj001      Jarrod Dyson    9  corbp001   Patrick Corbin    1  NaN   \n",
       "1    6  flahr001     Ryan Flaherty    5  tehej001    Julio Teheran    1  NaN   \n",
       "2    2  forsl001    Logan Forsythe    5  kersc001  Clayton Kershaw    1  NaN   \n",
       "3    6  wallc001      Chad Wallach    2  urenj001       Jose Urena    1  NaN   \n",
       "4    2  syndn001  Noah Syndergaard    1  rosaa003     Amed Rosario    6  NaN   \n",
       "\n",
       "  160  \n",
       "0   Y  \n",
       "1   Y  \n",
       "2   Y  \n",
       "3   Y  \n",
       "4   Y  \n",
       "\n",
       "[5 rows x 161 columns]"
      ]
     },
     "execution_count": 56,
     "metadata": {},
     "output_type": "execute_result"
    }
   ],
   "source": [
    "input_df.head()"
   ]
  },
  {
   "cell_type": "markdown",
   "metadata": {},
   "source": [
    "The dataset comes with unlabeled columns, so as a good practice we will label the columns of interest to make subsequent code more readable. This [web page](http://www.retrosheet.org/gamelogs/glfields.txt) provides a key to what each column of data represents, and is a must-have reference when working with Retrosheet game logs."
   ]
  },
  {
   "cell_type": "code",
   "execution_count": 57,
   "metadata": {},
   "outputs": [
    {
     "data": {
      "text/html": [
       "<div>\n",
       "<style scoped>\n",
       "    .dataframe tbody tr th:only-of-type {\n",
       "        vertical-align: middle;\n",
       "    }\n",
       "\n",
       "    .dataframe tbody tr th {\n",
       "        vertical-align: top;\n",
       "    }\n",
       "\n",
       "    .dataframe thead th {\n",
       "        text-align: right;\n",
       "    }\n",
       "</style>\n",
       "<table border=\"1\" class=\"dataframe\">\n",
       "  <thead>\n",
       "    <tr style=\"text-align: right;\">\n",
       "      <th></th>\n",
       "      <th>0</th>\n",
       "      <th>1</th>\n",
       "      <th>2</th>\n",
       "      <th>Visiting Team</th>\n",
       "      <th>4</th>\n",
       "      <th>5</th>\n",
       "      <th>Home Team</th>\n",
       "      <th>7</th>\n",
       "      <th>8</th>\n",
       "      <th>Runs Visitor</th>\n",
       "      <th>...</th>\n",
       "      <th>151</th>\n",
       "      <th>152</th>\n",
       "      <th>153</th>\n",
       "      <th>154</th>\n",
       "      <th>155</th>\n",
       "      <th>156</th>\n",
       "      <th>157</th>\n",
       "      <th>158</th>\n",
       "      <th>159</th>\n",
       "      <th>160</th>\n",
       "    </tr>\n",
       "  </thead>\n",
       "  <tbody>\n",
       "    <tr>\n",
       "      <th>0</th>\n",
       "      <td>20180329</td>\n",
       "      <td>0</td>\n",
       "      <td>Thu</td>\n",
       "      <td>COL</td>\n",
       "      <td>NL</td>\n",
       "      <td>1</td>\n",
       "      <td>ARI</td>\n",
       "      <td>NL</td>\n",
       "      <td>1</td>\n",
       "      <td>2</td>\n",
       "      <td>...</td>\n",
       "      <td>Nick Ahmed</td>\n",
       "      <td>6</td>\n",
       "      <td>dysoj001</td>\n",
       "      <td>Jarrod Dyson</td>\n",
       "      <td>9</td>\n",
       "      <td>corbp001</td>\n",
       "      <td>Patrick Corbin</td>\n",
       "      <td>1</td>\n",
       "      <td>NaN</td>\n",
       "      <td>Y</td>\n",
       "    </tr>\n",
       "    <tr>\n",
       "      <th>1</th>\n",
       "      <td>20180329</td>\n",
       "      <td>0</td>\n",
       "      <td>Thu</td>\n",
       "      <td>PHI</td>\n",
       "      <td>NL</td>\n",
       "      <td>1</td>\n",
       "      <td>ATL</td>\n",
       "      <td>NL</td>\n",
       "      <td>1</td>\n",
       "      <td>5</td>\n",
       "      <td>...</td>\n",
       "      <td>Dansby Swanson</td>\n",
       "      <td>6</td>\n",
       "      <td>flahr001</td>\n",
       "      <td>Ryan Flaherty</td>\n",
       "      <td>5</td>\n",
       "      <td>tehej001</td>\n",
       "      <td>Julio Teheran</td>\n",
       "      <td>1</td>\n",
       "      <td>NaN</td>\n",
       "      <td>Y</td>\n",
       "    </tr>\n",
       "    <tr>\n",
       "      <th>2</th>\n",
       "      <td>20180329</td>\n",
       "      <td>0</td>\n",
       "      <td>Thu</td>\n",
       "      <td>SFN</td>\n",
       "      <td>NL</td>\n",
       "      <td>1</td>\n",
       "      <td>LAN</td>\n",
       "      <td>NL</td>\n",
       "      <td>1</td>\n",
       "      <td>1</td>\n",
       "      <td>...</td>\n",
       "      <td>Yasmani Grandal</td>\n",
       "      <td>2</td>\n",
       "      <td>forsl001</td>\n",
       "      <td>Logan Forsythe</td>\n",
       "      <td>5</td>\n",
       "      <td>kersc001</td>\n",
       "      <td>Clayton Kershaw</td>\n",
       "      <td>1</td>\n",
       "      <td>NaN</td>\n",
       "      <td>Y</td>\n",
       "    </tr>\n",
       "    <tr>\n",
       "      <th>3</th>\n",
       "      <td>20180329</td>\n",
       "      <td>0</td>\n",
       "      <td>Thu</td>\n",
       "      <td>CHN</td>\n",
       "      <td>NL</td>\n",
       "      <td>1</td>\n",
       "      <td>MIA</td>\n",
       "      <td>NL</td>\n",
       "      <td>1</td>\n",
       "      <td>8</td>\n",
       "      <td>...</td>\n",
       "      <td>Miguel Rojas</td>\n",
       "      <td>6</td>\n",
       "      <td>wallc001</td>\n",
       "      <td>Chad Wallach</td>\n",
       "      <td>2</td>\n",
       "      <td>urenj001</td>\n",
       "      <td>Jose Urena</td>\n",
       "      <td>1</td>\n",
       "      <td>NaN</td>\n",
       "      <td>Y</td>\n",
       "    </tr>\n",
       "    <tr>\n",
       "      <th>4</th>\n",
       "      <td>20180329</td>\n",
       "      <td>0</td>\n",
       "      <td>Thu</td>\n",
       "      <td>SLN</td>\n",
       "      <td>NL</td>\n",
       "      <td>1</td>\n",
       "      <td>NYN</td>\n",
       "      <td>NL</td>\n",
       "      <td>1</td>\n",
       "      <td>4</td>\n",
       "      <td>...</td>\n",
       "      <td>Kevin Plawecki</td>\n",
       "      <td>2</td>\n",
       "      <td>syndn001</td>\n",
       "      <td>Noah Syndergaard</td>\n",
       "      <td>1</td>\n",
       "      <td>rosaa003</td>\n",
       "      <td>Amed Rosario</td>\n",
       "      <td>6</td>\n",
       "      <td>NaN</td>\n",
       "      <td>Y</td>\n",
       "    </tr>\n",
       "  </tbody>\n",
       "</table>\n",
       "<p>5 rows × 161 columns</p>\n",
       "</div>"
      ],
      "text/plain": [
       "          0  1    2 Visiting Team   4  5 Home Team   7  8  Runs Visitor  ...  \\\n",
       "0  20180329  0  Thu           COL  NL  1       ARI  NL  1             2  ...   \n",
       "1  20180329  0  Thu           PHI  NL  1       ATL  NL  1             5  ...   \n",
       "2  20180329  0  Thu           SFN  NL  1       LAN  NL  1             1  ...   \n",
       "3  20180329  0  Thu           CHN  NL  1       MIA  NL  1             8  ...   \n",
       "4  20180329  0  Thu           SLN  NL  1       NYN  NL  1             4  ...   \n",
       "\n",
       "               151  152       153               154  155       156  \\\n",
       "0       Nick Ahmed    6  dysoj001      Jarrod Dyson    9  corbp001   \n",
       "1   Dansby Swanson    6  flahr001     Ryan Flaherty    5  tehej001   \n",
       "2  Yasmani Grandal    2  forsl001    Logan Forsythe    5  kersc001   \n",
       "3     Miguel Rojas    6  wallc001      Chad Wallach    2  urenj001   \n",
       "4   Kevin Plawecki    2  syndn001  Noah Syndergaard    1  rosaa003   \n",
       "\n",
       "               157  158  159 160  \n",
       "0   Patrick Corbin    1  NaN   Y  \n",
       "1    Julio Teheran    1  NaN   Y  \n",
       "2  Clayton Kershaw    1  NaN   Y  \n",
       "3       Jose Urena    1  NaN   Y  \n",
       "4     Amed Rosario    6  NaN   Y  \n",
       "\n",
       "[5 rows x 161 columns]"
      ]
     },
     "execution_count": 57,
     "metadata": {},
     "output_type": "execute_result"
    }
   ],
   "source": [
    "# Method to rename columns of an input dataframe (for readability)\n",
    "# Input type: dataframe\n",
    "# Output type: dataframe\n",
    "def rename_cols(input_df):\n",
    "    input_df.rename(columns = {3: 'Visiting Team', 6: 'Home Team', 9: 'Runs Visitor', 10: 'Runs Home'}, inplace=True)\n",
    "    return input_df\n",
    "\n",
    "# Invoke function to rename columns\n",
    "input_df = rename_cols(input_df)\n",
    "\n",
    "# Display\n",
    "input_df.head()"
   ]
  },
  {
   "cell_type": "markdown",
   "metadata": {},
   "source": [
    "In the next step, we will add new binary-valued columns to the dataframe to indicate whether the home team or the visiting team won the game. It is very easy to generate new columns of data in a dataframe by applying standard or custom functions to existing columns. This greatly simplifies the process of generating new features from a raw data set."
   ]
  },
  {
   "cell_type": "code",
   "execution_count": 58,
   "metadata": {},
   "outputs": [
    {
     "data": {
      "text/html": [
       "<div>\n",
       "<style scoped>\n",
       "    .dataframe tbody tr th:only-of-type {\n",
       "        vertical-align: middle;\n",
       "    }\n",
       "\n",
       "    .dataframe tbody tr th {\n",
       "        vertical-align: top;\n",
       "    }\n",
       "\n",
       "    .dataframe thead th {\n",
       "        text-align: right;\n",
       "    }\n",
       "</style>\n",
       "<table border=\"1\" class=\"dataframe\">\n",
       "  <thead>\n",
       "    <tr style=\"text-align: right;\">\n",
       "      <th></th>\n",
       "      <th>0</th>\n",
       "      <th>1</th>\n",
       "      <th>2</th>\n",
       "      <th>Visiting Team</th>\n",
       "      <th>4</th>\n",
       "      <th>5</th>\n",
       "      <th>Home Team</th>\n",
       "      <th>7</th>\n",
       "      <th>8</th>\n",
       "      <th>Runs Visitor</th>\n",
       "      <th>...</th>\n",
       "      <th>153</th>\n",
       "      <th>154</th>\n",
       "      <th>155</th>\n",
       "      <th>156</th>\n",
       "      <th>157</th>\n",
       "      <th>158</th>\n",
       "      <th>159</th>\n",
       "      <th>160</th>\n",
       "      <th>Home Win</th>\n",
       "      <th>Visitor Win</th>\n",
       "    </tr>\n",
       "  </thead>\n",
       "  <tbody>\n",
       "    <tr>\n",
       "      <th>0</th>\n",
       "      <td>20180329</td>\n",
       "      <td>0</td>\n",
       "      <td>Thu</td>\n",
       "      <td>COL</td>\n",
       "      <td>NL</td>\n",
       "      <td>1</td>\n",
       "      <td>ARI</td>\n",
       "      <td>NL</td>\n",
       "      <td>1</td>\n",
       "      <td>2</td>\n",
       "      <td>...</td>\n",
       "      <td>dysoj001</td>\n",
       "      <td>Jarrod Dyson</td>\n",
       "      <td>9</td>\n",
       "      <td>corbp001</td>\n",
       "      <td>Patrick Corbin</td>\n",
       "      <td>1</td>\n",
       "      <td>NaN</td>\n",
       "      <td>Y</td>\n",
       "      <td>True</td>\n",
       "      <td>False</td>\n",
       "    </tr>\n",
       "    <tr>\n",
       "      <th>1</th>\n",
       "      <td>20180329</td>\n",
       "      <td>0</td>\n",
       "      <td>Thu</td>\n",
       "      <td>PHI</td>\n",
       "      <td>NL</td>\n",
       "      <td>1</td>\n",
       "      <td>ATL</td>\n",
       "      <td>NL</td>\n",
       "      <td>1</td>\n",
       "      <td>5</td>\n",
       "      <td>...</td>\n",
       "      <td>flahr001</td>\n",
       "      <td>Ryan Flaherty</td>\n",
       "      <td>5</td>\n",
       "      <td>tehej001</td>\n",
       "      <td>Julio Teheran</td>\n",
       "      <td>1</td>\n",
       "      <td>NaN</td>\n",
       "      <td>Y</td>\n",
       "      <td>True</td>\n",
       "      <td>False</td>\n",
       "    </tr>\n",
       "    <tr>\n",
       "      <th>2</th>\n",
       "      <td>20180329</td>\n",
       "      <td>0</td>\n",
       "      <td>Thu</td>\n",
       "      <td>SFN</td>\n",
       "      <td>NL</td>\n",
       "      <td>1</td>\n",
       "      <td>LAN</td>\n",
       "      <td>NL</td>\n",
       "      <td>1</td>\n",
       "      <td>1</td>\n",
       "      <td>...</td>\n",
       "      <td>forsl001</td>\n",
       "      <td>Logan Forsythe</td>\n",
       "      <td>5</td>\n",
       "      <td>kersc001</td>\n",
       "      <td>Clayton Kershaw</td>\n",
       "      <td>1</td>\n",
       "      <td>NaN</td>\n",
       "      <td>Y</td>\n",
       "      <td>False</td>\n",
       "      <td>True</td>\n",
       "    </tr>\n",
       "    <tr>\n",
       "      <th>3</th>\n",
       "      <td>20180329</td>\n",
       "      <td>0</td>\n",
       "      <td>Thu</td>\n",
       "      <td>CHN</td>\n",
       "      <td>NL</td>\n",
       "      <td>1</td>\n",
       "      <td>MIA</td>\n",
       "      <td>NL</td>\n",
       "      <td>1</td>\n",
       "      <td>8</td>\n",
       "      <td>...</td>\n",
       "      <td>wallc001</td>\n",
       "      <td>Chad Wallach</td>\n",
       "      <td>2</td>\n",
       "      <td>urenj001</td>\n",
       "      <td>Jose Urena</td>\n",
       "      <td>1</td>\n",
       "      <td>NaN</td>\n",
       "      <td>Y</td>\n",
       "      <td>False</td>\n",
       "      <td>True</td>\n",
       "    </tr>\n",
       "    <tr>\n",
       "      <th>4</th>\n",
       "      <td>20180329</td>\n",
       "      <td>0</td>\n",
       "      <td>Thu</td>\n",
       "      <td>SLN</td>\n",
       "      <td>NL</td>\n",
       "      <td>1</td>\n",
       "      <td>NYN</td>\n",
       "      <td>NL</td>\n",
       "      <td>1</td>\n",
       "      <td>4</td>\n",
       "      <td>...</td>\n",
       "      <td>syndn001</td>\n",
       "      <td>Noah Syndergaard</td>\n",
       "      <td>1</td>\n",
       "      <td>rosaa003</td>\n",
       "      <td>Amed Rosario</td>\n",
       "      <td>6</td>\n",
       "      <td>NaN</td>\n",
       "      <td>Y</td>\n",
       "      <td>True</td>\n",
       "      <td>False</td>\n",
       "    </tr>\n",
       "  </tbody>\n",
       "</table>\n",
       "<p>5 rows × 163 columns</p>\n",
       "</div>"
      ],
      "text/plain": [
       "          0  1    2 Visiting Team   4  5 Home Team   7  8  Runs Visitor  ...  \\\n",
       "0  20180329  0  Thu           COL  NL  1       ARI  NL  1             2  ...   \n",
       "1  20180329  0  Thu           PHI  NL  1       ATL  NL  1             5  ...   \n",
       "2  20180329  0  Thu           SFN  NL  1       LAN  NL  1             1  ...   \n",
       "3  20180329  0  Thu           CHN  NL  1       MIA  NL  1             8  ...   \n",
       "4  20180329  0  Thu           SLN  NL  1       NYN  NL  1             4  ...   \n",
       "\n",
       "        153               154 155       156              157  158  159  160  \\\n",
       "0  dysoj001      Jarrod Dyson   9  corbp001   Patrick Corbin    1  NaN    Y   \n",
       "1  flahr001     Ryan Flaherty   5  tehej001    Julio Teheran    1  NaN    Y   \n",
       "2  forsl001    Logan Forsythe   5  kersc001  Clayton Kershaw    1  NaN    Y   \n",
       "3  wallc001      Chad Wallach   2  urenj001       Jose Urena    1  NaN    Y   \n",
       "4  syndn001  Noah Syndergaard   1  rosaa003     Amed Rosario    6  NaN    Y   \n",
       "\n",
       "   Home Win Visitor Win  \n",
       "0      True       False  \n",
       "1      True       False  \n",
       "2     False        True  \n",
       "3     False        True  \n",
       "4      True       False  \n",
       "\n",
       "[5 rows x 163 columns]"
      ]
     },
     "execution_count": 58,
     "metadata": {},
     "output_type": "execute_result"
    }
   ],
   "source": [
    "# Method to add new columns to indicate whether home team or visiting team won the game\n",
    "# Input type: dataframe\n",
    "# Output type: dataframe\n",
    "def add_new_cols(input_df):\n",
    "    input_df['Home Win'] = (input_df['Runs Home'] > input_df['Runs Visitor'])\n",
    "    input_df['Visitor Win'] = (input_df['Runs Visitor'] > input_df['Runs Home'])\n",
    "    return input_df\n",
    "\n",
    "# Invoke method to add new columns\n",
    "input_df = add_new_cols(input_df)\n",
    "\n",
    "# Display\n",
    "input_df.head()"
   ]
  },
  {
   "cell_type": "markdown",
   "metadata": {},
   "source": [
    "We will now use the groupby() method from pandas, which allows us to slice the dataframe into groups (by rows). Specifically, we will apply groupby() to group the data by home team. The same effect can be achieved in principle with a for loop, though using groupby() makes the code more compact and elegant. Next, we will use the apply() method, which allows us to apply the same function (in this case, sum()) to each group created using groupby(). This step will give us the number of wins for the home team; as well as the number of runs scored by the home team and visiting teams. We will also use the count() function to count the total number of home games for each team. The results are stored in a dataframe called home_df."
   ]
  },
  {
   "cell_type": "code",
   "execution_count": 59,
   "metadata": {},
   "outputs": [
    {
     "data": {
      "text/html": [
       "<div>\n",
       "<style scoped>\n",
       "    .dataframe tbody tr th:only-of-type {\n",
       "        vertical-align: middle;\n",
       "    }\n",
       "\n",
       "    .dataframe tbody tr th {\n",
       "        vertical-align: top;\n",
       "    }\n",
       "\n",
       "    .dataframe thead th {\n",
       "        text-align: right;\n",
       "    }\n",
       "</style>\n",
       "<table border=\"1\" class=\"dataframe\">\n",
       "  <thead>\n",
       "    <tr style=\"text-align: right;\">\n",
       "      <th></th>\n",
       "      <th>Team</th>\n",
       "      <th>Runs by Visitor</th>\n",
       "      <th>Runs at Home</th>\n",
       "      <th>Wins at Home</th>\n",
       "      <th>Home Games</th>\n",
       "      <th>RD at Home</th>\n",
       "    </tr>\n",
       "  </thead>\n",
       "  <tbody>\n",
       "    <tr>\n",
       "      <th>0</th>\n",
       "      <td>ANA</td>\n",
       "      <td>355.0</td>\n",
       "      <td>355.0</td>\n",
       "      <td>42.0</td>\n",
       "      <td>81</td>\n",
       "      <td>0.0</td>\n",
       "    </tr>\n",
       "    <tr>\n",
       "      <th>1</th>\n",
       "      <td>ARI</td>\n",
       "      <td>328.0</td>\n",
       "      <td>359.0</td>\n",
       "      <td>40.0</td>\n",
       "      <td>81</td>\n",
       "      <td>31.0</td>\n",
       "    </tr>\n",
       "    <tr>\n",
       "      <th>2</th>\n",
       "      <td>ATL</td>\n",
       "      <td>357.0</td>\n",
       "      <td>391.0</td>\n",
       "      <td>43.0</td>\n",
       "      <td>81</td>\n",
       "      <td>34.0</td>\n",
       "    </tr>\n",
       "    <tr>\n",
       "      <th>3</th>\n",
       "      <td>BAL</td>\n",
       "      <td>411.0</td>\n",
       "      <td>339.0</td>\n",
       "      <td>28.0</td>\n",
       "      <td>81</td>\n",
       "      <td>-72.0</td>\n",
       "    </tr>\n",
       "    <tr>\n",
       "      <th>4</th>\n",
       "      <td>BOS</td>\n",
       "      <td>322.0</td>\n",
       "      <td>468.0</td>\n",
       "      <td>57.0</td>\n",
       "      <td>81</td>\n",
       "      <td>146.0</td>\n",
       "    </tr>\n",
       "  </tbody>\n",
       "</table>\n",
       "</div>"
      ],
      "text/plain": [
       "  Team  Runs by Visitor  Runs at Home  Wins at Home  Home Games  RD at Home\n",
       "0  ANA            355.0         355.0          42.0          81         0.0\n",
       "1  ARI            328.0         359.0          40.0          81        31.0\n",
       "2  ATL            357.0         391.0          43.0          81        34.0\n",
       "3  BAL            411.0         339.0          28.0          81       -72.0\n",
       "4  BOS            322.0         468.0          57.0          81       146.0"
      ]
     },
     "execution_count": 59,
     "metadata": {},
     "output_type": "execute_result"
    }
   ],
   "source": [
    "# Method to group data by home team and compute relevant statistics\n",
    "# Input type: dataframe\n",
    "# Output type: dataframe (with stats grouped by home team)\n",
    "def proc_home_team_data(input_df):\n",
    "\n",
    "    # Group by home team\n",
    "    home_group = input_df.groupby(input_df['Home Team'])\n",
    "\n",
    "    # Compute stats: Number of games, runs scored, runs conceded, wins, run differential\n",
    "    home_df = home_group[['Runs Visitor', 'Runs Home', 'Home Win']].apply(sum)\n",
    "    home_df['Home Games'] = home_group['Home Win'].count()\n",
    "    home_df.rename(columns = {'Runs Visitor': 'Runs by Visitor', 'Runs Home': 'Runs at Home', 'Home Win': 'Wins at Home'}, inplace=True)\n",
    "    home_df['RD at Home'] = home_df['Runs at Home'] - home_df['Runs by Visitor']\n",
    "    home_df.index.rename('Team', inplace=True)\n",
    "    home_df.reset_index(inplace=True)\n",
    "\n",
    "    return home_df\n",
    "\n",
    "# Invoke method to group data by home team and compute statistics\n",
    "home_df = proc_home_team_data(input_df)\n",
    "\n",
    "# Display\n",
    "home_df.head()"
   ]
  },
  {
   "cell_type": "markdown",
   "metadata": {},
   "source": [
    "In this step, we will group the data by visiting team and apply similar computations as described in the previous step to create the visit_df dataframe."
   ]
  },
  {
   "cell_type": "code",
   "execution_count": 60,
   "metadata": {},
   "outputs": [
    {
     "data": {
      "text/html": [
       "<div>\n",
       "<style scoped>\n",
       "    .dataframe tbody tr th:only-of-type {\n",
       "        vertical-align: middle;\n",
       "    }\n",
       "\n",
       "    .dataframe tbody tr th {\n",
       "        vertical-align: top;\n",
       "    }\n",
       "\n",
       "    .dataframe thead th {\n",
       "        text-align: right;\n",
       "    }\n",
       "</style>\n",
       "<table border=\"1\" class=\"dataframe\">\n",
       "  <thead>\n",
       "    <tr style=\"text-align: right;\">\n",
       "      <th></th>\n",
       "      <th>Team</th>\n",
       "      <th>Runs as Visitor</th>\n",
       "      <th>Runs by Home</th>\n",
       "      <th>Wins as Visitor</th>\n",
       "      <th>Road Games</th>\n",
       "      <th>RD as Visitor</th>\n",
       "    </tr>\n",
       "  </thead>\n",
       "  <tbody>\n",
       "    <tr>\n",
       "      <th>0</th>\n",
       "      <td>ANA</td>\n",
       "      <td>366.0</td>\n",
       "      <td>367.0</td>\n",
       "      <td>38.0</td>\n",
       "      <td>81</td>\n",
       "      <td>-1.0</td>\n",
       "    </tr>\n",
       "    <tr>\n",
       "      <th>1</th>\n",
       "      <td>ARI</td>\n",
       "      <td>334.0</td>\n",
       "      <td>316.0</td>\n",
       "      <td>42.0</td>\n",
       "      <td>81</td>\n",
       "      <td>18.0</td>\n",
       "    </tr>\n",
       "    <tr>\n",
       "      <th>2</th>\n",
       "      <td>ATL</td>\n",
       "      <td>368.0</td>\n",
       "      <td>300.0</td>\n",
       "      <td>47.0</td>\n",
       "      <td>81</td>\n",
       "      <td>68.0</td>\n",
       "    </tr>\n",
       "    <tr>\n",
       "      <th>3</th>\n",
       "      <td>BAL</td>\n",
       "      <td>283.0</td>\n",
       "      <td>481.0</td>\n",
       "      <td>19.0</td>\n",
       "      <td>81</td>\n",
       "      <td>-198.0</td>\n",
       "    </tr>\n",
       "    <tr>\n",
       "      <th>4</th>\n",
       "      <td>BOS</td>\n",
       "      <td>408.0</td>\n",
       "      <td>325.0</td>\n",
       "      <td>51.0</td>\n",
       "      <td>81</td>\n",
       "      <td>83.0</td>\n",
       "    </tr>\n",
       "  </tbody>\n",
       "</table>\n",
       "</div>"
      ],
      "text/plain": [
       "  Team  Runs as Visitor  Runs by Home  Wins as Visitor  Road Games  \\\n",
       "0  ANA            366.0         367.0             38.0          81   \n",
       "1  ARI            334.0         316.0             42.0          81   \n",
       "2  ATL            368.0         300.0             47.0          81   \n",
       "3  BAL            283.0         481.0             19.0          81   \n",
       "4  BOS            408.0         325.0             51.0          81   \n",
       "\n",
       "   RD as Visitor  \n",
       "0           -1.0  \n",
       "1           18.0  \n",
       "2           68.0  \n",
       "3         -198.0  \n",
       "4           83.0  "
      ]
     },
     "execution_count": 60,
     "metadata": {},
     "output_type": "execute_result"
    }
   ],
   "source": [
    "# Method to group data by visiting team and compute relevant statistics\n",
    "# Input type: dataframe\n",
    "# Output type: dataframe (with stats grouped by visiting team)\n",
    "def proc_visiting_team_data(input_df):\n",
    "\n",
    "    # Group by visiting team\n",
    "    visit_group = input_df.groupby(input_df['Visiting Team'])\n",
    "\n",
    "    # Compute stats: Number of games, runs scored, runs conceded, wins, run differential\n",
    "    visit_df = visit_group[['Runs Visitor', 'Runs Home', 'Visitor Win']].apply(sum)\n",
    "    visit_df['Road Games'] = visit_group['Visitor Win'].count()\n",
    "    visit_df.rename(columns = {'Runs Visitor': 'Runs as Visitor', 'Runs Home': 'Runs by Home', \n",
    "                                 'Visitor Win': 'Wins as Visitor'}, inplace=True)\n",
    "    visit_df['RD as Visitor'] = visit_df['Runs as Visitor'] - visit_df['Runs by Home']\n",
    "    visit_df.index.rename('Team', inplace=True)\n",
    "    visit_df.reset_index(inplace=True)\n",
    "\n",
    "    return visit_df\n",
    "\n",
    "# Invoke method to group data by visiting team and compute statistics\n",
    "visit_df = proc_visiting_team_data(input_df)\n",
    "\n",
    "# Display\n",
    "visit_df.head()"
   ]
  },
  {
   "cell_type": "markdown",
   "metadata": {},
   "source": [
    "Finally, we will use the merge() function to merge the home_df and visit_df dataframes into one dataframe, named overall_df. The merge() function allows us to join columns from two different dataframes with the same row names. In our example, this has the effect of joining the home and away records for each team per row. To make our explanatory and response variables explicit, we will add two new columns to overall_df—namely RD (run differential) and Win Pct (win percentage). These are easily computed from columns already in the dataframe."
   ]
  },
  {
   "cell_type": "code",
   "execution_count": 61,
   "metadata": {},
   "outputs": [
    {
     "data": {
      "text/html": [
       "<div>\n",
       "<style scoped>\n",
       "    .dataframe tbody tr th:only-of-type {\n",
       "        vertical-align: middle;\n",
       "    }\n",
       "\n",
       "    .dataframe tbody tr th {\n",
       "        vertical-align: top;\n",
       "    }\n",
       "\n",
       "    .dataframe thead th {\n",
       "        text-align: right;\n",
       "    }\n",
       "</style>\n",
       "<table border=\"1\" class=\"dataframe\">\n",
       "  <thead>\n",
       "    <tr style=\"text-align: right;\">\n",
       "      <th></th>\n",
       "      <th>Team</th>\n",
       "      <th>Runs by Visitor</th>\n",
       "      <th>Runs at Home</th>\n",
       "      <th>Wins at Home</th>\n",
       "      <th>Home Games</th>\n",
       "      <th>RD at Home</th>\n",
       "      <th>Runs as Visitor</th>\n",
       "      <th>Runs by Home</th>\n",
       "      <th>Wins as Visitor</th>\n",
       "      <th>Road Games</th>\n",
       "      <th>RD as Visitor</th>\n",
       "      <th>RD</th>\n",
       "      <th>Win Pct</th>\n",
       "    </tr>\n",
       "  </thead>\n",
       "  <tbody>\n",
       "    <tr>\n",
       "      <th>0</th>\n",
       "      <td>ANA</td>\n",
       "      <td>355.0</td>\n",
       "      <td>355.0</td>\n",
       "      <td>42.0</td>\n",
       "      <td>81</td>\n",
       "      <td>0.0</td>\n",
       "      <td>366.0</td>\n",
       "      <td>367.0</td>\n",
       "      <td>38.0</td>\n",
       "      <td>81</td>\n",
       "      <td>-1.0</td>\n",
       "      <td>-1.0</td>\n",
       "      <td>0.493827</td>\n",
       "    </tr>\n",
       "    <tr>\n",
       "      <th>1</th>\n",
       "      <td>ARI</td>\n",
       "      <td>328.0</td>\n",
       "      <td>359.0</td>\n",
       "      <td>40.0</td>\n",
       "      <td>81</td>\n",
       "      <td>31.0</td>\n",
       "      <td>334.0</td>\n",
       "      <td>316.0</td>\n",
       "      <td>42.0</td>\n",
       "      <td>81</td>\n",
       "      <td>18.0</td>\n",
       "      <td>49.0</td>\n",
       "      <td>0.506173</td>\n",
       "    </tr>\n",
       "    <tr>\n",
       "      <th>2</th>\n",
       "      <td>ATL</td>\n",
       "      <td>357.0</td>\n",
       "      <td>391.0</td>\n",
       "      <td>43.0</td>\n",
       "      <td>81</td>\n",
       "      <td>34.0</td>\n",
       "      <td>368.0</td>\n",
       "      <td>300.0</td>\n",
       "      <td>47.0</td>\n",
       "      <td>81</td>\n",
       "      <td>68.0</td>\n",
       "      <td>102.0</td>\n",
       "      <td>0.555556</td>\n",
       "    </tr>\n",
       "    <tr>\n",
       "      <th>3</th>\n",
       "      <td>BAL</td>\n",
       "      <td>411.0</td>\n",
       "      <td>339.0</td>\n",
       "      <td>28.0</td>\n",
       "      <td>81</td>\n",
       "      <td>-72.0</td>\n",
       "      <td>283.0</td>\n",
       "      <td>481.0</td>\n",
       "      <td>19.0</td>\n",
       "      <td>81</td>\n",
       "      <td>-198.0</td>\n",
       "      <td>-270.0</td>\n",
       "      <td>0.290123</td>\n",
       "    </tr>\n",
       "    <tr>\n",
       "      <th>4</th>\n",
       "      <td>BOS</td>\n",
       "      <td>322.0</td>\n",
       "      <td>468.0</td>\n",
       "      <td>57.0</td>\n",
       "      <td>81</td>\n",
       "      <td>146.0</td>\n",
       "      <td>408.0</td>\n",
       "      <td>325.0</td>\n",
       "      <td>51.0</td>\n",
       "      <td>81</td>\n",
       "      <td>83.0</td>\n",
       "      <td>229.0</td>\n",
       "      <td>0.666667</td>\n",
       "    </tr>\n",
       "  </tbody>\n",
       "</table>\n",
       "</div>"
      ],
      "text/plain": [
       "  Team  Runs by Visitor  Runs at Home  Wins at Home  Home Games  RD at Home  \\\n",
       "0  ANA            355.0         355.0          42.0          81         0.0   \n",
       "1  ARI            328.0         359.0          40.0          81        31.0   \n",
       "2  ATL            357.0         391.0          43.0          81        34.0   \n",
       "3  BAL            411.0         339.0          28.0          81       -72.0   \n",
       "4  BOS            322.0         468.0          57.0          81       146.0   \n",
       "\n",
       "   Runs as Visitor  Runs by Home  Wins as Visitor  Road Games  RD as Visitor  \\\n",
       "0            366.0         367.0             38.0          81           -1.0   \n",
       "1            334.0         316.0             42.0          81           18.0   \n",
       "2            368.0         300.0             47.0          81           68.0   \n",
       "3            283.0         481.0             19.0          81         -198.0   \n",
       "4            408.0         325.0             51.0          81           83.0   \n",
       "\n",
       "      RD   Win Pct  \n",
       "0   -1.0  0.493827  \n",
       "1   49.0  0.506173  \n",
       "2  102.0  0.555556  \n",
       "3 -270.0  0.290123  \n",
       "4  229.0  0.666667  "
      ]
     },
     "execution_count": 61,
     "metadata": {},
     "output_type": "execute_result"
    }
   ],
   "source": [
    "# Method to merge dataframes with statistics grouped by home and visiting teams\n",
    "# and to explicitly compute explanatory and response variables\n",
    "# Input type: dataframe, dataframe\n",
    "# Output type: dataframe\n",
    "def merge_data_frames(home_df, visit_df):\n",
    "    # Compute explanatory and response variables\n",
    "    overall_df = home_df.merge(visit_df, how='outer', left_on='Team', right_on='Team')\n",
    "    overall_df['RD'] = overall_df['RD at Home'] + overall_df['RD as Visitor']\n",
    "    overall_df['Win Pct'] = (overall_df['Wins at Home'] + overall_df['Wins as Visitor']) / (overall_df['Home Games'] + overall_df['Road Games'])\n",
    "\n",
    "    # Return dataframe with explanatory and response variables\n",
    "    return overall_df\n",
    "\n",
    "# Invoke method to merge home and visitor dataframes\n",
    "overall_df = merge_data_frames(home_df, visit_df)\n",
    "\n",
    "# Display\n",
    "overall_df.head()"
   ]
  },
  {
   "cell_type": "markdown",
   "metadata": {},
   "source": [
    "To streamline our processing of game logs from multiple years, we will now create a wrapper method called extract_linear_reg_inputs(), which simply invokes the methods we developed above in sequence and returns a processed dataframe with the explanatory and response variables."
   ]
  },
  {
   "cell_type": "code",
   "execution_count": 62,
   "metadata": {
    "collapsed": true
   },
   "outputs": [],
   "source": [
    "# Method to collate all data preprocessing steps\n",
    "# Input type: dataframe\n",
    "# Output type: dataframe\n",
    "def extract_linear_reg_inputs(input_df):\n",
    "    # Rename columns\n",
    "    input_df = rename_cols(input_df)\n",
    "\n",
    "    # Add new columns\n",
    "    input_df = add_new_cols(input_df)\n",
    "\n",
    "    # Group and process data by home team\n",
    "    home_df = proc_home_team_data(input_df)\n",
    "\n",
    "    # Group and process data by visiting team\n",
    "    visit_df = proc_visiting_team_data(input_df)\n",
    "\n",
    "    # Merge home and visitor dataframes\n",
    "    overall_df = merge_data_frames(home_df, visit_df)\n",
    "\n",
    "    return overall_df"
   ]
  },
  {
   "cell_type": "markdown",
   "metadata": {},
   "source": [
    "#### MODEL CONSTRUCTION AND EVALUATION\n",
    "\n",
    "**Constructing the training set**\n",
    "\n",
    "Equipped with the method extract_linear_reg_inputs(), we will build our training data set, which will be used to estimate the parameters of the linear regression model.\n",
    "\n",
    "We will use data from five MLB seasons (2011-2015) to train the model. Our strategy will be to construct a training set combining all five seasons of interest by looping over seasons, loading the game log of each season in the loop by using read_table(), extracting the response and explanatory variables by calling our extract_linear_reg_inputs() method, and accumulating relevant columns from the returned dataframe into NumPy arrays (initialized outside the for loop) to construct the training data."
   ]
  },
  {
   "cell_type": "code",
   "execution_count": 63,
   "metadata": {},
   "outputs": [
    {
     "name": "stdout",
     "output_type": "stream",
     "text": [
      "data/GL2010.TXT\n",
      "data/GL2011.TXT\n",
      "data/GL2012.TXT\n",
      "data/GL2013.TXT\n",
      "data/GL2014.TXT\n",
      "data/GL2015.TXT\n",
      "data/GL2016.TXT\n",
      "data/GL2017.TXT\n"
     ]
    }
   ],
   "source": [
    "# Get training data from 2010-2017 to train the linear regression model\n",
    "\n",
    "# Initialize arrays to hold training data\n",
    "train_run_diff = np.empty([0, 1])\n",
    "train_win_pct = np.empty([0, 1])\n",
    "\n",
    "# Loop\n",
    "for year in range(2010, 2018):\n",
    "    # Construct log file name\n",
    "    log_file = \"data/GL\" + str(year) + \".TXT\"\n",
    "    print(log_file)\n",
    "    # Read log into a dataframe\n",
    "    df = pd.read_csv(log_file, sep=\",\", header=None)\n",
    "\n",
    "    # Extract relevant stats into another dataframe\n",
    "    df_proc = extract_linear_reg_inputs(df)\n",
    "\n",
    "    # Add to training set\n",
    "    train_run_diff = np.vstack([train_run_diff, df_proc['RD'].values.reshape([-1, 1])])\n",
    "    train_win_pct = np.vstack([train_win_pct, df_proc['Win Pct'].values.reshape([-1, 1])])"
   ]
  },
  {
   "cell_type": "markdown",
   "metadata": {},
   "source": [
    "**Building the model and interpreting the parameters**\n",
    "\n",
    "We will now use the LinearRegression class imported from scikit-learn to compute our model parameters. As a first step, we will instantiate an object for the linear model."
   ]
  },
  {
   "cell_type": "code",
   "execution_count": 64,
   "metadata": {
    "collapsed": true
   },
   "outputs": [],
   "source": [
    "# Instantiate an object\n",
    "lin_regr = linear_model.LinearRegression(fit_intercept=True)"
   ]
  },
  {
   "cell_type": "markdown",
   "metadata": {},
   "source": [
    "Next, we will train the model by passing it the training data set constructed above."
   ]
  },
  {
   "cell_type": "code",
   "execution_count": 65,
   "metadata": {},
   "outputs": [
    {
     "data": {
      "text/plain": [
       "LinearRegression(copy_X=True, fit_intercept=True, n_jobs=1, normalize=False)"
      ]
     },
     "execution_count": 65,
     "metadata": {},
     "output_type": "execute_result"
    }
   ],
   "source": [
    "# Compute model parameters with training data\n",
    "lin_regr.fit(train_run_diff, train_win_pct)"
   ]
  },
  {
   "cell_type": "markdown",
   "metadata": {},
   "source": [
    "The model parameters a and b (slope and intercept, respectively) can be accessed as attributes of the linear regression object, as shown next."
   ]
  },
  {
   "cell_type": "code",
   "execution_count": 66,
   "metadata": {},
   "outputs": [
    {
     "name": "stdout",
     "output_type": "stream",
     "text": [
      "Slope (a) =  0.0006089801297614885  Intercept (b) =  0.4999711239869727\n"
     ]
    }
   ],
   "source": [
    "# Access and display model parameters\n",
    "print(\"Slope (a) = \", float(lin_regr.coef_), \" Intercept (b) = \", float(lin_regr.intercept_))"
   ]
  },
  {
   "cell_type": "markdown",
   "metadata": {},
   "source": [
    "We will now compute the R2 (R-squared) value of the fit using the score() method. R2 (a number between 0 and 1) is the most commonly used metric for evaluating the goodness of a linear fit. A value of 1.0 indicates a perfect fit. Intuitively, R2 captures the proportion of variation in the response variable, which can be defined by the explanatory variable."
   ]
  },
  {
   "cell_type": "code",
   "execution_count": 67,
   "metadata": {},
   "outputs": [
    {
     "name": "stdout",
     "output_type": "stream",
     "text": [
      "R-squared for linear fit =  0.8693910755423705\n"
     ]
    }
   ],
   "source": [
    "# Get regression score (R-squared)\n",
    "r_squared = lin_regr.score(train_run_diff, train_win_pct)\n",
    "print(\"R-squared for linear fit = \", r_squared)"
   ]
  },
  {
   "cell_type": "markdown",
   "metadata": {},
   "source": [
    "For our example, an R2 value of 0.863 indicates a very good fit.\n",
    "\n",
    "For baseball enthusiasts, it should be an interesting exercise to compare the results of this model with the widely used [Pythagorean Expected Win-Loss Formula](https://en.wikipedia.org/wiki/Pythagorean_expectation) coined by sabermetrics guru Bill James.\n",
    "\n",
    "Finally, we will visualize our test data and fit using routines from matplotlib, which is the most widely used plotting routine for numerical and scientific computing. Visually exploring the relationships between the response and explanatory variables is an important step in model construction and aids in good feature selection."
   ]
  },
  {
   "cell_type": "code",
   "execution_count": 68,
   "metadata": {},
   "outputs": [
    {
     "data": {
      "image/png": "[encoded data removed]",
      "text/plain": [
       "<matplotlib.figure.Figure at 0x1227ddb70>"
      ]
     },
     "metadata": {},
     "output_type": "display_data"
    }
   ],
   "source": [
    "# Visualize\n",
    "x_ax = np.array(range(int(np.min(train_run_diff)), int(np.max(train_run_diff)))).reshape(-1, 1)\n",
    "y_ax = lin_regr.coef_ * x_ax + lin_regr.intercept_\n",
    "plt.plot(train_run_diff, train_win_pct, 'bo', label=\"training_data\")\n",
    "plt.plot(x_ax, y_ax, 'r', label=\"model_fit\")\n",
    "plt.plot([-300, 300], [0.5, 0.5], \"k--\")\n",
    "plt.plot([0, 0], [0.30, 0.65], \"k--\")\n",
    "plt.ylim([0.30, 0.65])\n",
    "plt.xlabel(\"Run differential\")\n",
    "plt.ylabel(\"Win percentage\")\n",
    "plt.legend(loc=\"lower right\")\n",
    "plt.show()"
   ]
  },
  {
   "cell_type": "markdown",
   "metadata": {},
   "source": [
    "There are a couple of interesting observations to draw from the model parameter values computed above and the visualization:\n",
    "\n",
    "The slope value tells us that an approximately 16-run increase in run differential maps to a 1% increase in win probability.\n",
    "The intercept value tells us that a team with a 0-run differential is expected to win roughly half of its games.\n",
    "\n",
    "**Evaluating the model on test data**\n",
    "\n",
    "As the last step in this exercise, we will evaluate the model constructed above on a test data set, which in this case is game data from 2016. In the preprocessing phase, we will follow steps identical to what we did for loading, parsing, and extracting features from the training data."
   ]
  },
  {
   "cell_type": "code",
   "execution_count": 70,
   "metadata": {
    "collapsed": true
   },
   "outputs": [],
   "source": [
    "# Construct test dataset\n",
    "log_file = \"data/GL2018.TXT\"\n",
    "df = pd.read_csv(log_file, sep=\",\", header=None)\n",
    "df_proc = extract_linear_reg_inputs(df)\n",
    "test_run_diff = df_proc['RD'].values.reshape([-1, 1])\n",
    "test_win_pct = df_proc['Win Pct'].values.reshape([-1, 1])"
   ]
  },
  {
   "cell_type": "markdown",
   "metadata": {},
   "source": [
    "Next, we will use the predict() method to apply the model to the test data and estimate 2016 win percentages based on run differentials."
   ]
  },
  {
   "cell_type": "code",
   "execution_count": 71,
   "metadata": {
    "collapsed": true
   },
   "outputs": [],
   "source": [
    "# Predict outcomes using regression model\n",
    "predict_win_pct = lin_regr.predict(test_run_diff)"
   ]
  },
  {
   "cell_type": "markdown",
   "metadata": {},
   "source": [
    "We will use the percentage error between the results predicted by the model and the true answer (available from the game logs), averaged over the entire data set, to quantify how well the model performed on the test set relative to the training set. In this application, we don't particularly care whether the model overestimated or underestimated the win probability, so we will use the absolute value of the error as our performance metric."
   ]
  },
  {
   "cell_type": "code",
   "execution_count": 72,
   "metadata": {},
   "outputs": [
    {
     "name": "stdout",
     "output_type": "stream",
     "text": [
      "Percentage error on test set =  2.0850991742045375 %\n",
      "Percentage error on training set  1.9289683164333808 %\n"
     ]
    }
   ],
   "source": [
    "# Compute percentage error for linear regression model on test set\n",
    "mean_abs_error_test = np.mean(np.abs(predict_win_pct - test_win_pct))\n",
    "print(\"Percentage error on test set = \", 100. * mean_abs_error_test, \"%\")\n",
    "\n",
    "# Compute percentage error for linear regression model on training set\n",
    "model_fit_train = lin_regr.predict(train_run_diff)\n",
    "mean_abs_error_training = np.mean(np.abs(model_fit_train - train_win_pct))\n",
    "print(\"Percentage error on training set \", 100. * mean_abs_error_training, \"%\")"
   ]
  },
  {
   "cell_type": "markdown",
   "metadata": {},
   "source": [
    "The analysis shows that the performance of the model on the test set is almost as good as the performance on the training set. To wrap up, we will visualize the actual and predicted win percentages with reference to a 45 degree line."
   ]
  },
  {
   "cell_type": "code",
   "execution_count": 73,
   "metadata": {},
   "outputs": [
    {
     "data": {
      "image/png": "[encoded data removed]",
      "text/plain": [
       "<matplotlib.figure.Figure at 0x11d9fa358>"
      ]
     },
     "metadata": {},
     "output_type": "display_data"
    }
   ],
   "source": [
    "# Visualize\n",
    "plt.plot(test_win_pct, predict_win_pct, 'bo')\n",
    "plt.plot([0.35, 0.7], [0.35, 0.7], 'r')\n",
    "plt.xlabel(\"Actual win percentage\")\n",
    "plt.ylabel(\"Predicted win percentage\")\n",
    "plt.title(\"MLB 2017 season\")\n",
    "plt.show()"
   ]
  },
  {
   "cell_type": "markdown",
   "metadata": {},
   "source": [
    "Exercise: Can you show that the model was most inaccurate (by 8.1%) for the Texas Rangers, who had a run differential of only +8 runs, but ended up winning 58.6% of their games (the model predicted 50.5%)?\n",
    "\n",
    "Hint: Use the np.argmax() method to find the index at which the prediction error is maximized, and the np.max() method to find the corresponding maximum value. The index value can then be used to find the appropriate row in the df_proc dataframe (which contains the entire test dataset) and subsequently the name of the team.\n",
    "\n",
    "**Multiple regressors**\n",
    "\n",
    "Even though we only covered the single regressor case here as an illustration, it is relatively straightforward to extend the above methodology to the multiple regressor case. For instance, with two regressors, one would end up with a relationship of the form Y = a1X1 + a2X2 + b, where Y is the response variable, a1 and a2 are the regression coefficients, and b is the intercept. For the example we covered, it would be an interesting exercise to use \"runs scored\" and \"runs allowed\" as separate regressors (instead of combining them into one feature in the form of a differential) to see if that improves the prediction power of the model.\n",
    "\n",
    "Exercise: Can you quantify the improvement in model performance if \"runs scored\" and \"runs allowed\" are used as separate regressors (instead of linearly combining them into one feature with equal weights of opposite sign to create the run differential)? It turns out that the regression coefficients for the two regressors are 0.00058197 and -0.00069973, respectively, which have opposite sign (as expected), but are not equal in magnitude. The R2 value of this model is 0.87, only slightly higher than the single regressor model.\n",
    "\n",
    "Hint: Use the sum of the columns \"Runs at Home\" and \"Runs as Visitor\" in the training set dataframe to create the runs_scored feature. Similarly, use the sum of the columns \"Runs by Home\" and \"Runs by Visitor\" to create the runs_allowed feature. Instantiate the linear regression fit using lin_regr.fit(feature, train_win_pct), where feature = np.hstack([runs scored, runs_allowed]) contains the two regressors as separate columns. The model coefficients, R2 and predictions can be computed similar to the single regressor case.\n",
    "\n",
    "One note of caution when incorporating multiple regressors into a model is to make sure that the regressors are roughly independent (in a statistical sense); otherwise, the model could get overly complex without necessarily adding more predictive capability. In our example, if we were using \"runs scored\" as a regressor, it would be superfluous to use \"team OPS\" (on-base plus slugging %) as an additional feature, since it would likely have a very high correlation with \"runs scored\". On the other hand, one can expect \"runs scored\" and \"runs allowed\" to be largely independent (i.e., good offense does not imply good defense, and vice versa).\n",
    "\n",
    "**Feature transformation**\n",
    "\n",
    "Even though we have been focused on the case where the relationship between the explanatory variable and the regressor is of the form Y = aX + b, the framework easily extends to the case where the relationship is of the form Y = af(X) + b (where f(.) is a function/mapping). In the simplest case (i.e., linear), f(X) = X. A mapping of the form f(X) = X2 would imply a quadratic relationship between Y and X, f(X) = X3 would imply a cubic relationship, and so on. It is imperative to explore this relationship visually before embarking on the modeling exercise and transforming the selected feature appropriately in the data preprocessing phase.\n",
    "\n",
    "Exercise: Can you use feature transformation to evaluate the Pythagorean Expected Win-Loss Formula and come up with the best exponent value?\n",
    "\n",
    "Hint: Building on the previous exercise, create the feature f = zα/(1 + zα), where z is the ratio of runs_scored to runs_allowed and α is the exponent of choice. The feature can be created using the np.divide() and np.power() methods. Now follow the usual steps of setting up and evaluating a linear regression model, but instantiate the model as lin_regr = linear_model.LinearRegression(fit_intercept=False) to force the intercept to be 0. Write a for loop to sweep over α and find the value that minimizes the error on the training set."
   ]
  },
  {
   "cell_type": "markdown",
   "metadata": {},
   "source": [
    "## Logistic regression\n",
    "\n",
    "In the previous section, we used linear regression to express our response variable as a linear function of the explanatory variable. For the case where the response variable is categorical, logistic regression provides a more natural modeling framework. We will specifically focus on the case of a binary-valued (e.g., 0 or 1) response variable. In logistic regression, instead of expressing the response variable directly as a function of the explanatory variable, we express the probability of the response variable being equal to 1 (or 0) as a function of the explanatory variable. Specifically, the mapping is obtained by applying the standard logistic function to a linear combination of the explanatory variables. The relationship is mathematically expressed as Y = 1 / (1 + e-(aX+b)). Since the range of the logistic function is [0, 1], the result of the mapping can be interpreted as a probability. Just like linear regression, logistic regression is a simple yet powerful and widely used machine learning technique with applications in diverse areas such as modeling healthcare outcomes, horse racing, and stock trading.\n",
    "\n",
    "To make the idea concrete, we will use logistic regression to model the outcome of a game (from the point of view of the home team) as a function of the number of hits amassed by the home team. Let's define a \"0\" outcome as a loss for the home team and a \"1\" as a win for the home team. It is intuitive to expect that getting more hits increases the chances of victory. Through model fitting, we will explore if we can quantify this intuition.\n",
    "\n",
    "### TRAINING SET AND MODEL CONSTRUCTION\n",
    "\n",
    "Similar to the linear regression case, we will use Retrosheet game logs from five MLB seasons (2011-2015) to construct our training set. The explanatory variable in this case, number of hits by home team, is readily available in the raw data, so no additional processing for feature extraction is required. We will construct a Boolean-valued column to indicate whether the home team won the game (1/True) or not (0/False), just like we did in the linear regression example. We will aggregate these columns of data into NumPy arrays to create our training data set."
   ]
  },
  {
   "cell_type": "code",
   "execution_count": 76,
   "metadata": {
    "collapsed": true
   },
   "outputs": [],
   "source": [
    "# Get training data from 2011-2015 to train the logistic regression model\n",
    "\n",
    "# Initialize arrays to hold training data\n",
    "train_num_hits = np.empty([0, 1])\n",
    "train_win_label = np.empty([0, 1])\n",
    "\n",
    "# Loop\n",
    "for year in range(2010, 2017):\n",
    "    # Construct log file name\n",
    "    log_file = \"data/GL\" + str(year) + \".TXT\"\n",
    "\n",
    "    # Read log into a dataframe\n",
    "    df = pd.read_csv(log_file, sep=\",\", header=None)\n",
    "\n",
    "    # Rename columns for readability\n",
    "    df.rename(columns = {6: 'Home Team', 9: 'Runs Visitor', 10: 'Runs Home', 50: 'Hits Home'}, inplace=True)\n",
    "\n",
    "    # Add new columns to indicate whether home team or visiting team won the game\n",
    "    df['Home Win'] = (df['Runs Home'] > df['Runs Visitor'])\n",
    "\n",
    "    # Add to training set\n",
    "    train_num_hits = np.vstack([train_num_hits, df['Hits Home'].values.reshape([-1, 1])])\n",
    "    train_win_label = np.vstack([train_win_label, df['Home Win'].values.reshape([-1, 1])])"
   ]
  },
  {
   "cell_type": "markdown",
   "metadata": {},
   "source": [
    "Next, we will create an instance of the logistic regression model (using the LogisticRegression class from scikit-learn). The class offers a variety of configuration options related to the objective function and algorithm used for parameter optimization, parameter regularization, etc., which I encourage you to read more about [here](http://scikit-learn.org/stable/modules/generated/sklearn.linear_model.LogisticRegression.html). For this exercise, we will just use the default settings."
   ]
  },
  {
   "cell_type": "code",
   "execution_count": 78,
   "metadata": {
    "collapsed": true
   },
   "outputs": [],
   "source": [
    "# Instantiate logistic regression object\n",
    "log_regr = linear_model.LogisticRegression()"
   ]
  },
  {
   "cell_type": "markdown",
   "metadata": {},
   "source": [
    "We will now train the model by passing it the training data set constructed above."
   ]
  },
  {
   "cell_type": "code",
   "execution_count": 79,
   "metadata": {},
   "outputs": [
    {
     "data": {
      "text/plain": [
       "LogisticRegression(C=1.0, class_weight=None, dual=False, fit_intercept=True,\n",
       "          intercept_scaling=1, max_iter=100, multi_class='ovr', n_jobs=1,\n",
       "          penalty='l2', random_state=None, solver='liblinear', tol=0.0001,\n",
       "          verbose=0, warm_start=False)"
      ]
     },
     "execution_count": 79,
     "metadata": {},
     "output_type": "execute_result"
    }
   ],
   "source": [
    "# Fit model to training data\n",
    "log_regr.fit(train_num_hits, train_win_label.ravel())"
   ]
  },
  {
   "cell_type": "markdown",
   "metadata": {},
   "source": [
    "The model parameters a and b are available as attributes and can be accessed as \"coef_\" and \"intercept_\" respectively, as shown below."
   ]
  },
  {
   "cell_type": "code",
   "execution_count": 80,
   "metadata": {},
   "outputs": [
    {
     "name": "stdout",
     "output_type": "stream",
     "text": [
      "Slope =  0.24586571434549434  Intercept =  -1.9354170126789547\n"
     ]
    }
   ],
   "source": [
    "print(\"Slope = \", float(log_regr.coef_), \" Intercept = \", float(log_regr.intercept_))"
   ]
  },
  {
   "cell_type": "markdown",
   "metadata": {},
   "source": [
    "We will quantify how well the model performed by calling the score() method. The method returns the proportion of the training set on which the label (in this case, 0 or 1) was predicted correctly by the model."
   ]
  },
  {
   "cell_type": "code",
   "execution_count": 81,
   "metadata": {},
   "outputs": [
    {
     "name": "stdout",
     "output_type": "stream",
     "text": [
      "Percentage correct on training set =  65.1731639912977 %\n"
     ]
    }
   ],
   "source": [
    "# Get performance score\n",
    "log_regr_score_train = log_regr.score(train_num_hits, train_win_label.ravel())\n",
    "print(\"Percentage correct on training set = \", 100. * log_regr_score_train, \"%\")"
   ]
  },
  {
   "cell_type": "markdown",
   "metadata": {},
   "source": [
    "In this example, the model has a 64.7% success rate on the training set.\n",
    "\n",
    "The probability mapping for the training data will be constructed using a for loop, which bins the win probability by number of hits."
   ]
  },
  {
   "cell_type": "code",
   "execution_count": 82,
   "metadata": {
    "collapsed": true
   },
   "outputs": [],
   "source": [
    "# Estimate the probability of home team winning the game as a function of number\n",
    "# of hits from the training data\n",
    "hits_range = np.arange(np.min(train_num_hits), np.max(train_num_hits))\n",
    "prob_est_train_data = np.zeros([len(hits_range), 1])\n",
    "for hits in hits_range:\n",
    "    index = np.where(train_num_hits == hits)\n",
    "    if len(index[0]) > 0:\n",
    "        prob_est_train_data[int(hits - np.min(train_num_hits))] = np.sum(train_win_label[index[0]]) / len(index[0])"
   ]
  },
  {
   "cell_type": "markdown",
   "metadata": {},
   "source": [
    "The model fit will be accessed using the method predict_proba(), which returns the probability of the data point belonging to each class/label."
   ]
  },
  {
   "cell_type": "code",
   "execution_count": 83,
   "metadata": {
    "collapsed": true
   },
   "outputs": [],
   "source": [
    "# Get the probabilities as estimated by the model\n",
    "prob_est_model = log_regr.predict_proba(train_num_hits)"
   ]
  },
  {
   "cell_type": "markdown",
   "metadata": {},
   "source": [
    "Finally, we will visualize the training data and the model fit using matplotlib. We can see that the model fits the training data reasonably well for 6 or more hits, but diverges for fewer hits."
   ]
  },
  {
   "cell_type": "code",
   "execution_count": 84,
   "metadata": {},
   "outputs": [
    {
     "data": {
      "image/png": "[encoded data removed]",
      "text/plain": [
       "<matplotlib.figure.Figure at 0x12047a0f0>"
      ]
     },
     "metadata": {},
     "output_type": "display_data"
    }
   ],
   "source": [
    "# Plot and visualize input and estimated probabilities\n",
    "plt.plot(hits_range, prob_est_train_data, 'bs', label=\"Training data\")\n",
    "plt.plot(train_num_hits, prob_est_model[:, 1], 'ro', label=\"Model fit\")\n",
    "plt.plot([0, 30], [0.5, 0.5], \"k--\")\n",
    "plt.plot([7.89, 7.89], [-0.1, 1.1], \"k--\")\n",
    "plt.ylim([-0.1, 1.1])\n",
    "plt.legend(loc=\"lower right\")\n",
    "plt.xlabel(\"Number of hits\")\n",
    "plt.ylabel(\"Probability of win for home team\")\n",
    "plt.show()"
   ]
  },
  {
   "cell_type": "markdown",
   "metadata": {},
   "source": [
    "There are a couple of interesting observations to draw from the model parameter values computed previously and the visualization:\n",
    "\n",
    "* At X = 0, Y = 1 / (1 + e-b), which means that the model gives the home team a 13% chance of winning the game even if it registers zero hits. While this scenario is definitely not impossible, it does create a bias in the predictions for small values of X.\n",
    "* At X = -b / a = 7.89, Y = 0.5, which means the model gives the home team about a 50% chance of winning if it gets 7 or 8 hits. This implies that the model is most uncertain in predicting a home win when the number of hits is 7 or 8, but gets more confident as we move away in either direction.\n",
    "\n",
    "**EVALUATING THE MODEL ON TEST DATA**\n",
    "\n",
    "As the last step in this section, we will evaluate the logistic regression model developed above on a test data set (once again, the game logs from the 2016 MLB season).\n",
    "\n",
    "First, we will preprocess the raw dataframe using steps identical to what we did when constructing the training data set."
   ]
  },
  {
   "cell_type": "code",
   "execution_count": 86,
   "metadata": {
    "collapsed": true
   },
   "outputs": [],
   "source": [
    "# Evaluate model\n",
    "log_file = \"data/GL2016.TXT\"\n",
    "df = pd.read_csv(log_file, sep=\",\", header=None)\n",
    "\n",
    "# Rename columns for readability\n",
    "df.rename(columns = {6: 'Home Team', 9: 'Runs Visitor', 10: 'Runs Home', 50: 'Hits Home'}, inplace=True)\n",
    "\n",
    "# Add new columns to indicate whether home team or visiting team won the game\n",
    "df['Home Win'] = (df['Runs Home'] > df['Runs Visitor'])\n",
    "\n",
    "# Construct test data\n",
    "test_num_hits = df['Hits Home'].values.reshape([-1, 1])\n",
    "test_win_label = df['Home Win'].values.reshape([-1, 1])"
   ]
  },
  {
   "cell_type": "markdown",
   "metadata": {},
   "source": [
    "Next, we will use the predict() method to predict wins and losses for the home team based on the number of hits amassed by the home team."
   ]
  },
  {
   "cell_type": "code",
   "execution_count": 87,
   "metadata": {
    "collapsed": true
   },
   "outputs": [],
   "source": [
    "# Prediction\n",
    "predict_win_label = log_regr.predict(test_num_hits)"
   ]
  },
  {
   "cell_type": "markdown",
   "metadata": {},
   "source": [
    "Then we will evaluate the overall performance of the model on the test set using the score() method."
   ]
  },
  {
   "cell_type": "code",
   "execution_count": 88,
   "metadata": {},
   "outputs": [
    {
     "name": "stdout",
     "output_type": "stream",
     "text": [
      "Percentage correct on test set =  66.76276771004942 %\n"
     ]
    }
   ],
   "source": [
    "# Get score\n",
    "log_regr_score_test = log_regr.score(test_num_hits, test_win_label.ravel())\n",
    "print(\"Percentage correct on test set = \", 100. * log_regr_score_test, \"%\")"
   ]
  },
  {
   "cell_type": "markdown",
   "metadata": {},
   "source": [
    "The analysis returns a classification accuracy of 66.8% on the test set, which is actually marginally higher than the 64.7% score obtained on the training set.\n",
    "\n",
    "Finally, we will quantify the accuracy of the model as a function of number of hits. We will do this using a for loop to bin model accuracy as a function of the number of hits and store them in a variable called frac_correct."
   ]
  },
  {
   "cell_type": "code",
   "execution_count": 89,
   "metadata": {
    "collapsed": true
   },
   "outputs": [],
   "source": [
    "# Evaluate performance for each value of X\n",
    "delta = np.abs(test_win_label.ravel() - predict_win_label.ravel())\n",
    "hits_range = np.arange(np.min(test_num_hits), np.max(test_num_hits))\n",
    "frac_correct = np.zeros([len(hits_range), 1])\n",
    "for hits in hits_range:\n",
    "    index_all = np.where(test_num_hits == hits)\n",
    "    index_correct = np.where((test_num_hits.ravel() == hits) & (delta.ravel() == 0))\n",
    "    frac_correct[int(hits - np.min(test_num_hits))] = len(index_correct[0]) / len(index_all[0])"
   ]
  },
  {
   "cell_type": "code",
   "execution_count": 90,
   "metadata": {},
   "outputs": [
    {
     "data": {
      "image/png": "[encoded data removed]",
      "text/plain": [
       "<matplotlib.figure.Figure at 0x12047a978>"
      ]
     },
     "metadata": {},
     "output_type": "display_data"
    }
   ],
   "source": [
    "# In the last step, we will visualize frac_correct.\n",
    "# Plot\n",
    "plt.plot(hits_range, frac_correct,'bo')\n",
    "plt.xlabel(\"Number of hits by home team\")\n",
    "plt.ylabel(\"Prediction accuracy of model\")\n",
    "mid_point = -1. * float(log_regr.intercept_) / float(log_regr.coef_) \n",
    "plt.plot([mid_point, mid_point], [0, 1], 'r')\n",
    "plt.show()"
   ]
  },
  {
   "cell_type": "markdown",
   "metadata": {},
   "source": [
    "As we have discussed previously, the model accuracy is at its lowest when the home team gets 7 or 8 hits and improves as we move away in either direction. It would be an interesting exercise to find out if incorporating more features (e.g., walks or extra base hits) into this model can help improve the prediction accuracy. That would certainly be in line with [Moneyball](https://en.wikipedia.org/wiki/Moneyball) thinking, which values on-base percentage over hits.\n",
    "\n",
    "### Wrapping up\n",
    "\n",
    "Statistical analysis is an integral aspect of the game of baseball. The availability of detailed game data in the public domain, the rapidly growing interest in data science in virtually every industry, and the powerful data analysis and machine learning libraries now available in scripting languages like Python and MATLAB makes this an exciting time for delving deeper into the field of baseball statistical analysis.\n",
    "\n",
    "In Part 1 of this Oriole, we looked at two popular machine learning techniques, namely linear regression and logistic regression, to do interesting analyses and visualization of baseball data retrieved from [Retrosheet](http://www.retrosheet.org/). Even though we used baseball data from only one (albeit very popular) source, there are several other public domain sources of baseball data that can be used to perform different kinds of analyses. For instance, Retrosheet also offers [play-by-play](http://www.retrosheet.org/game.htm) logs in addition to game logs, which allows for a very [granular analysis](http://seanlahman.com/baseball-archive/statistics). The Lahman database is another great source of raw data amenable to analysis in Python. Additionally, websites like [FanGraphs](http://www.fangraphs.com/), [Baseball-Reference](http://www.baseball-reference.com/), and [PITCHf/x](http://www.brooksbaseball.net/pfxVB/pfx.php?) provide copious amounts of precalculated statistics to whet your appetite and provide you interesting directions to pursue for your own baseball data analysis journey.\n",
    "\n",
    "The concepts demonstrated here are widely applicable and I hope you will find relevant use cases in your domains of interest beyond baseball. For instance, in the healthcare domain, one could apply logistic regression to model and eventually predict the outcome of a drug or treatment (success/failure) as a function of medication adherence and other physiologic biomarkers (e.g., blood pressure or resting heart rate). In the real estate world, one could use multivariate linear regression to model and predict home prices as a function of attributes such as square footage, number of bedrooms, proximity to schools, etc."
   ]
  },
  {
   "cell_type": "code",
   "execution_count": null,
   "metadata": {
    "collapsed": true
   },
   "outputs": [],
   "source": []
  }
 ],
 "metadata": {
  "kernelspec": {
   "display_name": "Python 3",
   "language": "python",
   "name": "python3"
  },
  "language_info": {
   "codemirror_mode": {
    "name": "ipython",
    "version": 3
   },
   "file_extension": ".py",
   "mimetype": "text/x-python",
   "name": "python",
   "nbconvert_exporter": "python",
   "pygments_lexer": "ipython3",
   "version": "3.6.8"
  }
 },
 "nbformat": 4,
 "nbformat_minor": 2
}
